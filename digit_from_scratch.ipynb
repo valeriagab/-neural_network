{
 "cells": [
  {
   "cell_type": "code",
   "execution_count": 33,
   "metadata": {},
   "outputs": [],
   "source": [
    "import pandas as pd\n",
    "import numpy as np\n",
    "import math\n",
    "import matplotlib.pyplot as plt\n",
    "import torch\n",
    "from sklearn.model_selection import train_test_split\n",
    "from torch.autograd import Variable\n",
    "import torch.nn as nn\n",
    "import torch.nn.functional as F\n",
    "from torch.utils.data import DataLoader"
   ]
  },
  {
   "cell_type": "code",
   "execution_count": 40,
   "metadata": {},
   "outputs": [
    {
     "data": {
      "image/png": "[encoded data removed]",
      "text/plain": [
       "<Figure size 432x288 with 1 Axes>"
      ]
     },
     "metadata": {
      "needs_background": "light"
     },
     "output_type": "display_data"
    }
   ],
   "source": [
    "# Prepare Dataset\n",
    "# load data\n",
    "train = pd.read_csv(\"train.csv\",dtype = np.float32)\n",
    "\n",
    "# split data into features(pixels) and labels(numbers from 0 to 9)\n",
    "targets_numpy = train.label.values\n",
    "features_numpy = train.loc[:,train.columns != \"label\"].values/255 # normalization\n",
    "\n",
    "# train test split. Size of train data is 80% and size of test data is 20%. \n",
    "features_train, features_test, targets_train, targets_test = train_test_split(features_numpy,\n",
    "                                                                             targets_numpy,\n",
    "                                                                             test_size = 0.2,\n",
    "                                                                             random_state = 42) \n",
    "\n",
    "# create feature and targets tensor for train set. As you remember we need variable to accumulate gradients. Therefore first we create tensor, then we will create variable\n",
    "featuresTrain = torch.from_numpy(features_train)\n",
    "targetsTrain = torch.from_numpy(targets_train).type(torch.LongTensor) # data type is long\n",
    "\n",
    "# create feature and targets tensor for test set.\n",
    "featuresTest = torch.from_numpy(features_test)\n",
    "targetsTest = torch.from_numpy(targets_test).type(torch.LongTensor) # data type is long\n",
    "\n",
    "# batch_size, epoch and iteration\n",
    "batch_size = 100\n",
    "n_iters = 10000\n",
    "num_epochs = n_iters / (features_numpy.shape[0] / batch_size)\n",
    "num_epochs = int(num_epochs)\n",
    "\n",
    "# Pytorch train and test sets\n",
    "train = torch.utils.data.TensorDataset(featuresTrain,targetsTrain)\n",
    "test = torch.utils.data.TensorDataset(featuresTest,targetsTest)\n",
    "\n",
    "# data loader\n",
    "train_loader = DataLoader(train, batch_size = batch_size, shuffle = False)\n",
    "test_loader = DataLoader(test, batch_size = batch_size, shuffle = False)\n",
    "\n",
    "# visualize one of the images in data set\n",
    "plt.imshow(features_numpy[10].reshape(28,28))\n",
    "plt.axis(\"off\")\n",
    "plt.title(str(targets_numpy[10]))\n",
    "plt.savefig('graph.png')\n",
    "plt.show()"
   ]
  },
  {
   "cell_type": "code",
   "execution_count": 66,
   "metadata": {},
   "outputs": [],
   "source": [
    "# Create Logistic Regression Model\n",
    "class LogisticRegressionModel(nn.Module):\n",
    "    def __init__(self, input_dim, output_dim):\n",
    "        super(LogisticRegressionModel, self).__init__()\n",
    "        # Linear part\n",
    "        self.linear = nn.Linear(input_dim, output_dim)\n",
    "           \n",
    "    def forward(self, x):\n",
    "        out = self.linear(x)\n",
    "        return out\n",
    "\n",
    "# Instantiate Model Class\n",
    "input_dim = 28*28 # size of image px*px\n",
    "output_dim = 10  # labels 0,1,2,3,4,5,6,7,8,9\n",
    "\n",
    "# create logistic regression model\n",
    "model = LogisticRegressionModel(input_dim, output_dim)\n",
    "\n",
    "# Cross Entropy Loss  \n",
    "error = nn.CrossEntropyLoss()\n",
    "\n",
    "# SGD Optimizer \n",
    "learning_rate = 0.001\n",
    "optimizer = torch.optim.SGD(model.parameters(), lr=learning_rate)"
   ]
  },
  {
   "cell_type": "code",
   "execution_count": 69,
   "metadata": {},
   "outputs": [
    {
     "name": "stdout",
     "output_type": "stream",
     "text": [
      "Iteration: 500  Loss: 1.6002342700958252  Accuracy: 74.35713958740234%\n",
      "Iteration: 1000  Loss: 1.466158390045166  Accuracy: 77.95237731933594%\n",
      "Iteration: 1500  Loss: 1.1795806884765625  Accuracy: 79.77381134033203%\n",
      "Iteration: 2000  Loss: 1.1226928234100342  Accuracy: 81.0%\n",
      "Iteration: 2500  Loss: 0.9695647358894348  Accuracy: 81.91666412353516%\n",
      "Iteration: 3000  Loss: 0.8761752843856812  Accuracy: 82.58333587646484%\n",
      "Iteration: 3500  Loss: 0.8542970418930054  Accuracy: 82.97618865966797%\n",
      "Iteration: 4000  Loss: 0.7228477597236633  Accuracy: 83.27381134033203%\n",
      "Iteration: 4500  Loss: 0.9372583031654358  Accuracy: 83.63095092773438%\n",
      "Iteration: 5000  Loss: 0.7798659801483154  Accuracy: 83.95237731933594%\n",
      "Iteration: 5500  Loss: 0.7258101105690002  Accuracy: 84.35713958740234%\n",
      "Iteration: 6000  Loss: 0.8492602705955505  Accuracy: 84.61904907226562%\n",
      "Iteration: 6500  Loss: 0.6439656019210815  Accuracy: 84.78571319580078%\n",
      "Iteration: 7000  Loss: 0.6952494978904724  Accuracy: 85.07142639160156%\n",
      "Iteration: 7500  Loss: 0.6224502921104431  Accuracy: 85.22618865966797%\n"
     ]
    }
   ],
   "source": [
    "# Traning the Model\n",
    "count = 0\n",
    "loss_list = []\n",
    "iteration_list = []\n",
    "for epoch in range(num_epochs):\n",
    "    for i, (images, labels) in enumerate(train_loader):\n",
    "        \n",
    "        # Define variables\n",
    "        train = (images.view(-1, 28*28))\n",
    "        labels = (labels)\n",
    "        \n",
    "        # Clear gradients\n",
    "        optimizer.zero_grad()\n",
    "        \n",
    "        # Forward propagation\n",
    "        outputs = model(train)\n",
    "        \n",
    "        # Calculate softmax and cross entropy loss\n",
    "        loss = error(outputs, labels)\n",
    "        \n",
    "        # Calculate gradients\n",
    "        loss.backward()\n",
    "        \n",
    "        # Update parameters\n",
    "        optimizer.step()\n",
    "        \n",
    "        count += 1\n",
    "        \n",
    "        # Prediction\n",
    "        if count % 50 == 0:\n",
    "            # Calculate Accuracy         \n",
    "            correct = 0\n",
    "            total = 0\n",
    "            # Predict test dataset\n",
    "            for images, labels in test_loader: \n",
    "                test = (images.view(-1, 28*28))\n",
    "                \n",
    "                # Forward propagation\n",
    "                outputs = model(test)\n",
    "                \n",
    "                # Get predictions from the maximum value\n",
    "                predicted = torch.max(outputs.data, 1)[1]\n",
    "                \n",
    "                \n",
    "                # Total number of labels\n",
    "                total += labels.shape[0]\n",
    "                \n",
    "                # Total correct predictions\n",
    "                correct += (predicted == labels).sum()\n",
    "            \n",
    "            accuracy = 100 * correct / total\n",
    "            \n",
    "            # store loss and iteration\n",
    "            loss_list.append(loss.data)\n",
    "            iteration_list.append(count)\n",
    "        if count % 500 == 0:\n",
    "            # Print Loss\n",
    "            print('Iteration: {}  Loss: {}  Accuracy: {}%'.format(count, loss.data, accuracy))"
   ]
  },
  {
   "cell_type": "code",
   "execution_count": 72,
   "metadata": {},
   "outputs": [
    {
     "data": {
      "text/plain": [
       "Text(0.5, 1.0, 'LogisticRegression')"
      ]
     },
     "execution_count": 72,
     "metadata": {},
     "output_type": "execute_result"
    },
    {
     "data": {
      "image/png": "[encoded data removed]",
      "text/plain": [
       "<Figure size 432x288 with 1 Axes>"
      ]
     },
     "metadata": {
      "needs_background": "light"
     },
     "output_type": "display_data"
    }
   ],
   "source": [
    "plt.plot(iteration_list,loss_list)\n",
    "plt.title('LogisticRegression')"
   ]
  },
  {
   "cell_type": "markdown",
   "metadata": {},
   "source": [
    "# ANN"
   ]
  },
  {
   "cell_type": "code",
   "execution_count": 144,
   "metadata": {},
   "outputs": [],
   "source": [
    "class ANN(nn.Module):\n",
    "    def __init__(self,input_dim, hidden_dim, output_dim):\n",
    "        super(ANN , self).__init__()\n",
    "        \n",
    "        # linear function\n",
    "        self.fc1=nn.Linear(input_dim,hidden_dim)\n",
    "        # non linear\n",
    "        self.relu1=nn.ReLU()\n",
    "        \n",
    "        self.fc2=nn.Linear(hidden_dim,hidden_dim)\n",
    "        self.tanh2=nn.Tanh()\n",
    "        \n",
    "        self.fc3=nn.Linear(hidden_dim,hidden_dim)\n",
    "        self.elu3=nn.ELU()\n",
    "        \n",
    "        self.fc4=nn.Linear(hidden_dim,output_dim)\n",
    "        \n",
    "         \n",
    "    def forward(self, x):\n",
    "        # Linear function 1\n",
    "        out = self.fc1(x)\n",
    "        # Non-linearity 1\n",
    "        out = self.relu1(out)\n",
    "        \n",
    "        # Linear function 2\n",
    "        out = self.fc2(out)\n",
    "        # Non-linearity 2\n",
    "        out = self.tanh2(out)\n",
    "        \n",
    "        # Linear function 2\n",
    "        out = self.fc3(out)\n",
    "        # Non-linearity 2\n",
    "        out = self.elu3(out)\n",
    "        \n",
    "        # Linear function 4 (readout)\n",
    "        out = self.fc4(out)\n",
    "        return out\n",
    "\n",
    "# instantiate ANN\n",
    "input_dim = 28*28\n",
    "hidden_dim = 150 #hidden layer dim is one of the hyper parameter and it should be chosen and tuned. For now I only say 150 there is no reason.\n",
    "output_dim = 10\n",
    "\n",
    "# Create ANN\n",
    "model = ANN(input_dim, hidden_dim, output_dim)\n",
    "\n",
    "# Cross Entropy Loss \n",
    "error = nn.CrossEntropyLoss()\n",
    "\n",
    "# SGD Optimizer\n",
    "learning_rate = 0.02\n",
    "optimizer = torch.optim.SGD(model.parameters(), lr=learning_rate)\n"
   ]
  },
  {
   "cell_type": "code",
   "execution_count": 145,
   "metadata": {},
   "outputs": [
    {
     "name": "stdout",
     "output_type": "stream",
     "text": [
      "Iteration 500, loss 0.7639983296394348, accuracy 77.94047546386719\n",
      "Iteration 1000, loss 0.45432692766189575, accuracy 87.95237731933594\n",
      "Iteration 1500, loss 0.23349100351333618, accuracy 89.70237731933594\n",
      "Iteration 2000, loss 0.28745970129966736, accuracy 90.5\n",
      "Iteration 2500, loss 0.31520164012908936, accuracy 91.77381134033203\n",
      "Iteration 3000, loss 0.12291838973760605, accuracy 92.46428680419922\n",
      "Iteration 3500, loss 0.22876682877540588, accuracy 93.29762268066406\n",
      "Iteration 4000, loss 0.0634237751364708, accuracy 93.77381134033203\n",
      "Iteration 4500, loss 0.3345476984977722, accuracy 94.3452377319336\n",
      "Iteration 5000, loss 0.10705184936523438, accuracy 94.76190185546875\n",
      "Iteration 5500, loss 0.17987754940986633, accuracy 94.8452377319336\n",
      "Iteration 6000, loss 0.19507776200771332, accuracy 95.08333587646484\n",
      "Iteration 6500, loss 0.08784569799900055, accuracy 95.44047546386719\n",
      "Iteration 7000, loss 0.10759498924016953, accuracy 95.77381134033203\n",
      "Iteration 7500, loss 0.12623533606529236, accuracy 95.69047546386719\n"
     ]
    }
   ],
   "source": [
    "count = 0\n",
    "loss_list = []\n",
    "iteration_list = []\n",
    "accuracy_list = []\n",
    "for epoch in range(num_epochs):\n",
    "    for i, (images,labels) in enumerate(train_loader):\n",
    "        train=images.view(-1,28*28)\n",
    "        optimizer.zero_grad()\n",
    "        outputs=model(train)\n",
    "        loss=error(outputs,labels)\n",
    "        loss.backward()\n",
    "        optimizer.step()\n",
    "        count += 1\n",
    "        if count % 50 == 0:\n",
    "            total = 0\n",
    "            correct = 0\n",
    "            for images, labels in test_loader:\n",
    "                test = images.view(-1,28*28)\n",
    "                outputs = model(test)\n",
    "                total += labels.shape[0]\n",
    "                predicted = torch.max(outputs.data,1)[1]\n",
    "                correct += (predicted == labels).sum()\n",
    "            accuracy=100 * correct /float( total)\n",
    "            loss_list.append(loss.data)\n",
    "            iteration_list.append(count)\n",
    "            accuracy_list.append(accuracy)\n",
    "        if count % 500 == 0:\n",
    "            print('Iteration {}, loss {}, accuracy {}'.format(count,loss.data,accuracy))"
   ]
  },
  {
   "cell_type": "code",
   "execution_count": 148,
   "metadata": {},
   "outputs": [
    {
     "data": {
      "text/plain": [
       "Text(0.5, 1.0, 'Number of iteration loss error')"
      ]
     },
     "execution_count": 148,
     "metadata": {},
     "output_type": "execute_result"
    },
    {
     "data": {
      "image/png": "[encoded data removed]",
      "text/plain": [
       "<Figure size 432x288 with 1 Axes>"
      ]
     },
     "metadata": {
      "needs_background": "light"
     },
     "output_type": "display_data"
    }
   ],
   "source": [
    "plt.plot(iteration_list,loss_list)\n",
    "plt.title('Number of iteration loss error')"
   ]
  },
  {
   "cell_type": "code",
   "execution_count": 149,
   "metadata": {},
   "outputs": [
    {
     "data": {
      "text/plain": [
       "Text(0.5, 1.0, 'Number of iteration accuracy')"
      ]
     },
     "execution_count": 149,
     "metadata": {},
     "output_type": "execute_result"
    },
    {
     "data": {
      "image/png": "[encoded data removed]",
      "text/plain": [
       "<Figure size 432x288 with 1 Axes>"
      ]
     },
     "metadata": {
      "needs_background": "light"
     },
     "output_type": "display_data"
    }
   ],
   "source": [
    "plt.plot(iteration_list,accuracy_list)\n",
    "plt.title('Number of iteration accuracy')"
   ]
  },
  {
   "cell_type": "markdown",
   "metadata": {},
   "source": [
    "# Convolutional Neural Network (CNN)"
   ]
  },
  {
   "cell_type": "code",
   "execution_count": 158,
   "metadata": {},
   "outputs": [],
   "source": [
    "class CNN(nn.Module):\n",
    "    def __init__(self):\n",
    "        super(CNN,self).__init__()\n",
    "        self.conv1=nn.Conv2d(1,16,5)\n",
    "        self.relu1=nn.ReLU()\n",
    "        self.max_pool1=nn.MaxPool2d(2)\n",
    "        \n",
    "        self.conv2=nn.Conv2d(16,32,5)\n",
    "        self.relu2=nn.ReLU()\n",
    "        self.max_pool2=nn.MaxPool2d(2)\n",
    "        \n",
    "        \n",
    "        self.linear2=nn.Linear(32*4*4,10)\n",
    "        \n",
    "    def forward(self,x):\n",
    "        out= self.max_pool1(self.relu1(self.conv1(x)))\n",
    "        out=self.max_pool2(self.relu2(self.conv2(out)))\n",
    "        out = out.view(out.size(0), -1)\n",
    "        out=self.linear2(out)\n",
    "        return out"
   ]
  },
  {
   "cell_type": "code",
   "execution_count": 162,
   "metadata": {},
   "outputs": [],
   "source": [
    "# batch_size, epoch and iteration\n",
    "batch_size = 100\n",
    "n_iters = 2500\n",
    "num_epochs = n_iters / (len(features_train) / batch_size)\n",
    "num_epochs = int(num_epochs)"
   ]
  },
  {
   "cell_type": "code",
   "execution_count": 163,
   "metadata": {},
   "outputs": [],
   "source": [
    "model = CNN()\n",
    "\n",
    "# Cross Entropy Loss \n",
    "error = nn.CrossEntropyLoss()\n",
    "\n",
    "# SGD Optimizer\n",
    "learning_rate = 0.1\n",
    "optimizer = torch.optim.SGD(model.parameters(), lr=learning_rate)"
   ]
  },
  {
   "cell_type": "code",
   "execution_count": 165,
   "metadata": {
    "scrolled": true
   },
   "outputs": [
    {
     "name": "stdout",
     "output_type": "stream",
     "text": [
      "Iteration 500, loss 0.02950107492506504, accuracy 98.20237731933594\n",
      "Iteration 1000, loss 0.0339885838329792, accuracy 98.4047622680664\n",
      "Iteration 1500, loss 0.007918233051896095, accuracy 98.1547622680664\n",
      "Iteration 2000, loss 0.006634758785367012, accuracy 98.4047622680664\n"
     ]
    }
   ],
   "source": [
    "count = 0\n",
    "loss_list = []\n",
    "iteration_list = []\n",
    "accuracy_list = []\n",
    "for epoch in range(num_epochs):\n",
    "    for i, (images,labels) in enumerate(train_loader):\n",
    "        train=images.view(100,1,28,28)\n",
    "        optimizer.zero_grad()\n",
    "        outputs=model(train)\n",
    "        loss=error(outputs,labels)\n",
    "        loss.backward()\n",
    "        optimizer.step()\n",
    "        count += 1\n",
    "        if count % 50 == 0:\n",
    "            total = 0\n",
    "            correct = 0\n",
    "            for images, labels in test_loader:\n",
    "                test = images.view(100,1,28,28)\n",
    "                outputs = model(test)\n",
    "                total += labels.shape[0]\n",
    "                predicted = torch.max(outputs.data,1)[1]\n",
    "                correct += (predicted == labels).sum()\n",
    "            accuracy=100 * correct /float( total)\n",
    "            loss_list.append(loss.data)\n",
    "            iteration_list.append(count)\n",
    "            accuracy_list.append(accuracy)\n",
    "        if count % 500 == 0:\n",
    "            print('Iteration {}, loss {}, accuracy {}'.format(count,loss.data,accuracy))"
   ]
  },
  {
   "cell_type": "code",
   "execution_count": null,
   "metadata": {},
   "outputs": [],
   "source": []
  }
 ],
 "metadata": {
  "kernelspec": {
   "display_name": "Python 3",
   "language": "python",
   "name": "python3"
  },
  "language_info": {
   "codemirror_mode": {
    "name": "ipython",
    "version": 3
   },
   "file_extension": ".py",
   "mimetype": "text/x-python",
   "name": "python",
   "nbconvert_exporter": "python",
   "pygments_lexer": "ipython3",
   "version": "3.8.3"
  }
 },
 "nbformat": 4,
 "nbformat_minor": 4
}
